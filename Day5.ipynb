{
  "cells": [
    {
      "cell_type": "markdown",
      "metadata": {
        "id": "view-in-github",
        "colab_type": "text"
      },
      "source": [
        "<a href=\"https://colab.research.google.com/github/Nusrahkhan/AIML-PRACTICE/blob/main/Day5.ipynb\" target=\"_parent\"><img src=\"https://colab.research.google.com/assets/colab-badge.svg\" alt=\"Open In Colab\"/></a>"
      ]
    },
    {
      "cell_type": "markdown",
      "id": "d0ea81d7",
      "metadata": {
        "id": "d0ea81d7"
      },
      "source": [
        "# 🧠 Reinforcement Learning with the NIM Game\n",
        "Let's teach our AI how to win a simple game using Q-learning."
      ]
    },
    {
      "cell_type": "markdown",
      "id": "2326000a",
      "metadata": {
        "id": "2326000a"
      },
      "source": [
        "## 🎮 The NIM Game Rules\n",
        "- Start with 21 sticks.\n",
        "- Each player takes 1, 2, or 3 sticks on their turn.\n",
        "- The player who takes the **last stick loses**.\n",
        "\n",
        "We'll train an AI to get smarter over time!"
      ]
    },
    {
      "cell_type": "code",
      "execution_count": null,
      "id": "d6b59538",
      "metadata": {
        "id": "d6b59538"
      },
      "outputs": [],
      "source": [
        "MAX_STICKS = 21\n",
        "ACTIONS = [1, 2, 3, 4]"
      ]
    },
    {
      "cell_type": "markdown",
      "id": "598d7dad",
      "metadata": {
        "id": "598d7dad"
      },
      "source": [
        "## 🧠 Step 1: Create a Q-table\n",
        "We’ll use a dictionary to store the AI’s knowledge — the expected value (Q) of taking each action in every possible state."
      ]
    },
    {
      "cell_type": "code",
      "execution_count": null,
      "id": "0ab88528",
      "metadata": {
        "id": "0ab88528"
      },
      "outputs": [],
      "source": [
        "Q = {}"
      ]
    },
    {
      "cell_type": "markdown",
      "id": "3c985115",
      "metadata": {
        "id": "3c985115"
      },
      "source": [
        "## 🎲 Step 2: Action Choice\n",
        "Let’s write a function that chooses an action. We’ll use **epsilon-greedy** — random at first, smarter later."
      ]
    },
    {
      "cell_type": "code",
      "execution_count": null,
      "id": "e717bdea",
      "metadata": {
        "id": "e717bdea"
      },
      "outputs": [],
      "source": [
        "\n",
        "import random\n",
        "\n",
        "def choose_action(state, epsilon):\n",
        "    if state not in Q:\n",
        "      # epsilon helps to decide how often do we want to take random moves\n",
        "        Q[state] = {a: 0 for a in ACTIONS}\n",
        "    if random.random() < epsilon:\n",
        "        return random.choice([a for a in ACTIONS if a <= state])\n",
        "    return min(Q[state], key=Q[state].get)\n"
      ]
    },
    {
      "cell_type": "markdown",
      "id": "9d01dfae",
      "metadata": {
        "id": "9d01dfae"
      },
      "source": [
        "## 💡 Step 3: Q-Value Update Rule\n",
        "We’ll update the Q-values using this formula:\n",
        "```\n",
        "Q(s,a) = Q(s,a) + alpha * (reward + gamma * max(Q(s') - Q(s,a))\n",
        "```"
      ]
    },
    {
      "cell_type": "code",
      "execution_count": null,
      "id": "d3ed83b9",
      "metadata": {
        "id": "d3ed83b9"
      },
      "outputs": [],
      "source": [
        "\n",
        "def update_q(state, action, reward, next_state, alpha=0.1, gamma=0.9):\n",
        "    if state not in Q:\n",
        "      # is this state(action taken by ai) is new(taken first time) then saves it to dictionary Q\n",
        "        Q[state] = {a: 0 for a in ACTIONS}\n",
        "    if next_state not in Q:\n",
        "        Q[next_state] = {a: 0 for a in ACTIONS}\n",
        "    max_q_next = min(Q[next_state].values())\n",
        "    Q[state][action] += alpha * (reward + gamma * max_q_next - Q[state][action])\n"
      ]
    },
    {
      "cell_type": "markdown",
      "id": "5302fc2c",
      "metadata": {
        "id": "5302fc2c"
      },
      "source": [
        "## 🔁 Step 4: Training Loop\n",
        "Now we’ll play lots of games where the AI learns from experience."
      ]
    },
    {
      "cell_type": "code",
      "execution_count": null,
      "id": "2fe1d694",
      "metadata": {
        "id": "2fe1d694"
      },
      "outputs": [],
      "source": [
        "def train(episodes=10000, epsilon=0.3, alpha=0.1, gamma=0.9):\n",
        "    for _ in range(episodes):\n",
        "        state = MAX_STICKS\n",
        "        last_state, last_action = None, None\n",
        "\n",
        "        while state > 0:\n",
        "            action = choose_action(state, epsilon)\n",
        "            next_state = state - action\n",
        "\n",
        "            if last_state is not None:\n",
        "                update_q(last_state, last_action, 0, state, alpha, gamma)\n",
        "\n",
        "            last_state = state\n",
        "            last_action = action\n",
        "\n",
        "            if next_state == 0:\n",
        "                update_q(state, action, -1, next_state, alpha, gamma)\n",
        "                break\n",
        "\n",
        "            valid_opponent_actions = [a for a in ACTIONS if a <= next_state]\n",
        "            if not valid_opponent_actions:\n",
        "                update_q(last_state, last_action, 0, next_state, alpha, gamma)\n",
        "                break\n",
        "\n",
        "            opponent_action = random.choice(valid_opponent_actions)\n",
        "            state = next_state - opponent_action\n",
        "\n",
        "            if state <= 0:\n",
        "                update_q(last_state, last_action, 1, next_state, alpha, gamma)\n",
        "                break\n"
      ]
    },
    {
      "cell_type": "markdown",
      "id": "63bf4e99",
      "metadata": {
        "id": "63bf4e99"
      },
      "source": [
        "## 🚀 Train the AI!"
      ]
    },
    {
      "cell_type": "code",
      "execution_count": null,
      "id": "0c4b8ebe",
      "metadata": {
        "id": "0c4b8ebe"
      },
      "outputs": [],
      "source": [
        "train()"
      ]
    },
    {
      "cell_type": "code",
      "source": [
        "print(Q)"
      ],
      "metadata": {
        "colab": {
          "base_uri": "https://localhost:8080/"
        },
        "id": "nGmkPcQFjQt5",
        "outputId": "22a6c2fb-b23a-4726-a014-09328eb7d2f2"
      },
      "id": "nGmkPcQFjQt5",
      "execution_count": null,
      "outputs": [
        {
          "output_type": "stream",
          "name": "stdout",
          "text": [
            "{21: {1: -0.6484963319299526, 2: -0.6806572761885872, 3: -0.7014796122393314, 4: -0.7186231357178836}, 16: {1: -0.7296225880954113, 2: -0.7274366867986205, 3: -0.7465046107458302, 4: -0.7791810006771072}, 13: {1: -0.7741088552414703, 2: -0.7900704382310804, 3: -0.8099999999999987, 4: -0.7421325821550027}, 11: {1: -0.8099999999999987, 2: -0.7530846821698083, 3: -0.8076790085376747, 4: -0.7432007053621844}, 6: {1: -0.899999999999999, 2: -0.6036594837484002, 3: -0.4726819050197155, 4: -0.5511353005746819}, 3: {1: -0.4762723908616747, 2: 0.10000000000760247, 3: -0.9999999999999996, 4: 0}, 1: {1: -0.9999999999999996, 2: 0.0, 3: 0, 4: 0}, 0: {1: 0, 2: 0, 3: 0, 4: 0}, 17: {1: -0.7221108762958416, 2: -0.7230888565878019, 3: -0.717732230210284, 4: -0.7523526735942319}, 15: {1: -0.7289803337764345, 2: -0.7458856760830072, 3: -0.7733789542262808, 4: -0.783453471251202}, 12: {1: -0.7788362831454898, 2: -0.8099999999999987, 3: -0.7532826834953736, 4: -0.7979088700733771}, 8: {1: -0.8015297447029616, 2: -0.8515053760476992, 3: -0.899999999999999, 4: -0.6485175019603887}, 4: {1: -0.6657638432172901, 2: -0.4108986316892842, 3: 0.1000000109193468, 4: -0.9999999999999996}, 2: {1: 0.10000000000000048, 2: -0.9999999999999996, 3: 0, 4: 0}, 19: {1: -0.6973887200995984, 2: -0.46704003839937314, 3: -0.5408544650679379, 4: -0.19565060841783116}, 14: {1: -0.7597955726519289, 2: -0.7677600092237846, 3: -0.7908795971270296, 4: -0.8099999999999987}, 10: {1: -0.7111212361837709, 2: -0.7212416500040641, 3: -0.7855340323486482, 4: -0.814181680188433}, 7: {1: -0.8160248319296584, 2: -0.899999999999999, 3: -0.7436942065341544, 4: -0.6766548657656306}, 9: {1: -0.7934641991315488, 2: -0.7908643594607336, 3: -0.7988092414934109, 4: -0.899999999999999}, 18: {1: -0.7133184560330135, 2: -0.6226496056877133, 3: -0.6901374045839834, 4: -0.6679839920747761}, -1: {1: 0, 2: 0, 3: 0, 4: 0}, 5: {1: -0.5599627034317283, 2: -0.21058969100609481, 3: -0.32205173077636984, 4: 0.1000011259684647}}\n"
          ]
        }
      ]
    },
    {
      "cell_type": "markdown",
      "id": "2c30e744",
      "metadata": {
        "id": "2c30e744"
      },
      "source": [
        "## 🧪 Let’s play against the AI!"
      ]
    },
    {
      "cell_type": "code",
      "execution_count": null,
      "id": "24fb8cf3",
      "metadata": {
        "id": "24fb8cf3"
      },
      "outputs": [],
      "source": [
        "\n",
        "def play():\n",
        "    state = MAX_STICKS\n",
        "    while state > 0:\n",
        "        print(f\"Sticks left: {state}\")\n",
        "        move = int(input(\"Your move (1–3): \"))\n",
        "        state -= move\n",
        "        if state <= 0:\n",
        "            print(\"You took the last stick. You lose!\")\n",
        "            return\n",
        "        if state in Q:\n",
        "            ai_move = min(Q[state], key=Q[state].get)\n",
        "        else:\n",
        "            ai_move = random.choice([a for a in ACTIONS if a <= state])\n",
        "        print(f\"AI takes {ai_move} stick(s).\")\n",
        "        state -= ai_move\n",
        "        if state <= 0:\n",
        "            print(\"AI took the last stick. You win!\")\n",
        "            return\n"
      ]
    },
    {
      "cell_type": "code",
      "execution_count": null,
      "id": "e912145f",
      "metadata": {
        "colab": {
          "base_uri": "https://localhost:8080/"
        },
        "id": "e912145f",
        "outputId": "5b01e0c9-d13a-4ecc-f318-1db969b0348a"
      },
      "outputs": [
        {
          "output_type": "stream",
          "name": "stdout",
          "text": [
            "Sticks left: 21\n",
            "Your move (1–3): 4\n",
            "AI takes 4 stick(s).\n",
            "Sticks left: 13\n",
            "Your move (1–3): 4\n",
            "AI takes 4 stick(s).\n",
            "Sticks left: 5\n",
            "Your move (1–3): 1\n",
            "AI takes 4 stick(s).\n",
            "AI took the last stick. You win!\n"
          ]
        }
      ],
      "source": [
        "play()"
      ]
    },
    {
      "cell_type": "markdown",
      "id": "cc857d07",
      "metadata": {
        "id": "cc857d07"
      },
      "source": [
        "## 🎉 Summary\n",
        "You just trained an agent to play a game using trial-and-error. That’s the magic of Reinforcement Learning!"
      ]
    }
  ],
  "metadata": {
    "kernelspec": {
      "display_name": "Python 3",
      "language": "python",
      "name": "python3"
    },
    "language": "python",
    "language_info": {
      "codemirror_mode": {
        "name": "ipython",
        "version": 3
      },
      "file_extension": ".py",
      "mimetype": "text/x-python",
      "name": "python",
      "nbconvert_exporter": "python",
      "pygments_lexer": "ipython3",
      "version": "3.12.6"
    },
    "colab": {
      "provenance": [],
      "include_colab_link": true
    }
  },
  "nbformat": 4,
  "nbformat_minor": 5
}