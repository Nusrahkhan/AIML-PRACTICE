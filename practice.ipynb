{
  "nbformat": 4,
  "nbformat_minor": 0,
  "metadata": {
    "colab": {
      "provenance": [],
      "collapsed_sections": [
        "Cvl1MMtyo8N2"
      ],
      "authorship_tag": "ABX9TyPkjv7VKwWcfQzQcpix+dIr",
      "include_colab_link": true
    },
    "kernelspec": {
      "name": "python3",
      "display_name": "Python 3"
    },
    "language_info": {
      "name": "python"
    }
  },
  "cells": [
    {
      "cell_type": "markdown",
      "metadata": {
        "id": "view-in-github",
        "colab_type": "text"
      },
      "source": [
        "<a href=\"https://colab.research.google.com/github/Nusrahkhan/Sariahhhhh/blob/main/practice.ipynb\" target=\"_parent\"><img src=\"https://colab.research.google.com/assets/colab-badge.svg\" alt=\"Open In Colab\"/></a>"
      ]
    },
    {
      "cell_type": "code",
      "execution_count": 2,
      "metadata": {
        "id": "VDQ1_9oPo4WE"
      },
      "outputs": [],
      "source": [
        "import numpy as np"
      ]
    },
    {
      "cell_type": "markdown",
      "source": [
        "## Creating arrays"
      ],
      "metadata": {
        "id": "Cvl1MMtyo8N2"
      }
    },
    {
      "cell_type": "code",
      "source": [
        "np.__version__"
      ],
      "metadata": {
        "colab": {
          "base_uri": "https://localhost:8080/",
          "height": 35
        },
        "id": "9vRtsAXkxD_i",
        "outputId": "5549cc19-29a1-439e-88e9-7d2a9b7e5233"
      },
      "execution_count": 4,
      "outputs": [
        {
          "output_type": "execute_result",
          "data": {
            "text/plain": [
              "'2.0.2'"
            ],
            "application/vnd.google.colaboratory.intrinsic+json": {
              "type": "string"
            }
          },
          "metadata": {},
          "execution_count": 4
        }
      ]
    },
    {
      "cell_type": "code",
      "source": [
        "arr = np.array([1,2,3,4,5,6,7,8,9,10])\n",
        "print(arr)"
      ],
      "metadata": {
        "colab": {
          "base_uri": "https://localhost:8080/"
        },
        "id": "XXH8hnLpo7lR",
        "outputId": "2c932847-ddc5-4d28-e321-83778cae0e89"
      },
      "execution_count": 5,
      "outputs": [
        {
          "output_type": "stream",
          "name": "stdout",
          "text": [
            "[ 1  2  3  4  5  6  7  8  9 10]\n"
          ]
        }
      ]
    },
    {
      "cell_type": "code",
      "source": [
        "arr_2d = np.array([[[1,3], [4,5]], [[1,2], [3, 4]]])\n",
        "print(arr_2d)"
      ],
      "metadata": {
        "colab": {
          "base_uri": "https://localhost:8080/"
        },
        "id": "kGlIKCePpAis",
        "outputId": "706513c4-f178-42f9-ba8d-fa7875f65870"
      },
      "execution_count": 9,
      "outputs": [
        {
          "output_type": "stream",
          "name": "stdout",
          "text": [
            "[[[1 3]\n",
            "  [4 5]]\n",
            "\n",
            " [[1 2]\n",
            "  [3 4]]]\n"
          ]
        }
      ]
    },
    {
      "cell_type": "code",
      "source": [
        "matrix = np.ones((2, 2))\n",
        "print(matrix)"
      ],
      "metadata": {
        "colab": {
          "base_uri": "https://localhost:8080/"
        },
        "id": "VM4mFpREyIU4",
        "outputId": "1a78b4ca-319b-4f47-aad0-a2b1cc2e297f"
      },
      "execution_count": 14,
      "outputs": [
        {
          "output_type": "stream",
          "name": "stdout",
          "text": [
            "[[1. 1.]\n",
            " [1. 1.]]\n"
          ]
        }
      ]
    },
    {
      "cell_type": "code",
      "source": [
        "identity = np.eye(3)\n",
        "print(identity)"
      ],
      "metadata": {
        "colab": {
          "base_uri": "https://localhost:8080/"
        },
        "id": "8DD5cnq7yo6l",
        "outputId": "93214ae5-0c60-4baf-908d-da5e0d82eb56"
      },
      "execution_count": 16,
      "outputs": [
        {
          "output_type": "stream",
          "name": "stdout",
          "text": [
            "[[1. 0. 0.]\n",
            " [0. 1. 0.]\n",
            " [0. 0. 1.]]\n"
          ]
        }
      ]
    },
    {
      "cell_type": "markdown",
      "source": [
        "## Properties of numpy arrays"
      ],
      "metadata": {
        "id": "aT6HWDHhpCwI"
      }
    },
    {
      "cell_type": "code",
      "source": [
        "print(type(arr_2d))"
      ],
      "metadata": {
        "colab": {
          "base_uri": "https://localhost:8080/"
        },
        "id": "2XgSh-GEpB3m",
        "outputId": "630e75d6-8c5a-45ba-d242-002074c354d9"
      },
      "execution_count": null,
      "outputs": [
        {
          "output_type": "stream",
          "name": "stdout",
          "text": [
            "<class 'numpy.ndarray'>\n"
          ]
        }
      ]
    },
    {
      "cell_type": "code",
      "source": [
        "#Dimensions of the array\n",
        "print(arr_2d.ndim)"
      ],
      "metadata": {
        "colab": {
          "base_uri": "https://localhost:8080/"
        },
        "id": "JZPIOAxjpHqI",
        "outputId": "729caf42-dacd-4b18-e79d-8c6ccd7739be"
      },
      "execution_count": 18,
      "outputs": [
        {
          "output_type": "stream",
          "name": "stdout",
          "text": [
            "3\n"
          ]
        }
      ]
    },
    {
      "cell_type": "code",
      "source": [
        "# Number of rows and columns\n",
        "print(arr_2d.shape)"
      ],
      "metadata": {
        "colab": {
          "base_uri": "https://localhost:8080/"
        },
        "id": "YjPuNuUTpJW6",
        "outputId": "c365d072-1908-42a0-d1e6-71b7597b02af"
      },
      "execution_count": null,
      "outputs": [
        {
          "output_type": "stream",
          "name": "stdout",
          "text": [
            "(2, 3)\n"
          ]
        }
      ]
    },
    {
      "cell_type": "code",
      "source": [
        "# datatype\n",
        "print(arr_2d.dtype)"
      ],
      "metadata": {
        "colab": {
          "base_uri": "https://localhost:8080/"
        },
        "id": "YrrRqr07pMxv",
        "outputId": "990f3c58-f7e8-4ad5-e4a0-6500ad3cf998"
      },
      "execution_count": null,
      "outputs": [
        {
          "output_type": "stream",
          "name": "stdout",
          "text": [
            "int64\n"
          ]
        }
      ]
    },
    {
      "cell_type": "code",
      "source": [
        "#size\n",
        "print(arr_2d.size)"
      ],
      "metadata": {
        "colab": {
          "base_uri": "https://localhost:8080/"
        },
        "id": "Jp9nZ6xQpONe",
        "outputId": "11eaa59c-1c7e-44a3-96f4-7cab28d694f3"
      },
      "execution_count": null,
      "outputs": [
        {
          "output_type": "stream",
          "name": "stdout",
          "text": [
            "6\n"
          ]
        }
      ]
    },
    {
      "cell_type": "code",
      "source": [
        "# transpose\n",
        "dim2 = np.array([[1,2, 3, 44, 56], [3, 4, 34, 45, 22]])\n",
        "t = dim2.T\n",
        "print(dim2)\n",
        "print(t)"
      ],
      "metadata": {
        "colab": {
          "base_uri": "https://localhost:8080/"
        },
        "id": "eJao9KX-0dzA",
        "outputId": "9bfed990-664e-4c7b-dd0a-ec78dc7bb1a7"
      },
      "execution_count": 23,
      "outputs": [
        {
          "output_type": "stream",
          "name": "stdout",
          "text": [
            "[[ 1  2  3 44 56]\n",
            " [ 3  4 34 45 22]]\n",
            "[[ 1  3]\n",
            " [ 2  4]\n",
            " [ 3 34]\n",
            " [44 45]\n",
            " [56 22]]\n"
          ]
        }
      ]
    },
    {
      "cell_type": "markdown",
      "source": [
        "## Array slicing"
      ],
      "metadata": {
        "id": "pPUYmNKZpSTb"
      }
    },
    {
      "cell_type": "code",
      "source": [
        "# arrayname[start: end]\n",
        "new_array = np.array([2, 3, 5, 7, 8, 9, 10, 13, 15])\n",
        "print(new_array[1: 4])\n",
        "\n",
        "# with step\n",
        "print(new_array[1: 9: 2])\n",
        "\n",
        "# 2d array slicing\n",
        "arr_2d = np.array([[1, 2, 3, 5] ,[3, 5, 6, 4]])\n",
        "print(arr_2d[1, 1: 4])"
      ],
      "metadata": {
        "colab": {
          "base_uri": "https://localhost:8080/"
        },
        "id": "0wr3WKaHpP4O",
        "outputId": "c0761f45-3065-4d8f-f219-90c5b3b06995"
      },
      "execution_count": 26,
      "outputs": [
        {
          "output_type": "stream",
          "name": "stdout",
          "text": [
            "[3 5 7]\n",
            "[ 3  7  9 13]\n",
            "[5 6 4]\n"
          ]
        }
      ]
    },
    {
      "cell_type": "code",
      "source": [
        "print(dim2[1, :3])"
      ],
      "metadata": {
        "colab": {
          "base_uri": "https://localhost:8080/"
        },
        "id": "hF8b9RQ309lX",
        "outputId": "dcd2f188-7d20-485a-efbb-e87da1bcb43a"
      },
      "execution_count": 24,
      "outputs": [
        {
          "output_type": "stream",
          "name": "stdout",
          "text": [
            "[ 3  4 34]\n"
          ]
        }
      ]
    },
    {
      "cell_type": "markdown",
      "source": [
        "## Array indexing"
      ],
      "metadata": {
        "id": "ikslmlYHpVf_"
      }
    },
    {
      "cell_type": "code",
      "source": [
        "# 2d array indexing\n",
        "print(arr_2d[0, 1])"
      ],
      "metadata": {
        "colab": {
          "base_uri": "https://localhost:8080/"
        },
        "id": "F6k9YGYgpUT8",
        "outputId": "4ad8a107-386c-4484-d997-383b4bff93e3"
      },
      "execution_count": 27,
      "outputs": [
        {
          "output_type": "stream",
          "name": "stdout",
          "text": [
            "2\n"
          ]
        }
      ]
    },
    {
      "cell_type": "code",
      "source": [
        "# negative indexing\n",
        "print(arr[-1])"
      ],
      "metadata": {
        "colab": {
          "base_uri": "https://localhost:8080/"
        },
        "id": "xrNElzK_pZyz",
        "outputId": "1f58c07d-4c08-448c-83f5-1fd84e32cfd2"
      },
      "execution_count": null,
      "outputs": [
        {
          "output_type": "stream",
          "name": "stdout",
          "text": [
            "10\n"
          ]
        }
      ]
    },
    {
      "cell_type": "code",
      "source": [
        "# functions on numpy arrays\n",
        "print(np.sqrt(arr_2d))\n",
        "print(np.exp(arr_2d))"
      ],
      "metadata": {
        "colab": {
          "base_uri": "https://localhost:8080/"
        },
        "id": "rLUqiLrW2eIX",
        "outputId": "6b2a592d-8161-4e62-d96b-3aec93c641b3"
      },
      "execution_count": 30,
      "outputs": [
        {
          "output_type": "stream",
          "name": "stdout",
          "text": [
            "[[1.         1.41421356 1.73205081 2.23606798]\n",
            " [1.73205081 2.23606798 2.44948974 2.        ]]\n",
            "[[  2.71828183   7.3890561   20.08553692 148.4131591 ]\n",
            " [ 20.08553692 148.4131591  403.42879349  54.59815003]]\n"
          ]
        }
      ]
    },
    {
      "cell_type": "markdown",
      "source": [
        "## Filtering"
      ],
      "metadata": {
        "id": "RaqI973QpcgC"
      }
    },
    {
      "cell_type": "code",
      "source": [
        "mask = arr % 2 == 0\n",
        "print(arr[mask])"
      ],
      "metadata": {
        "colab": {
          "base_uri": "https://localhost:8080/"
        },
        "id": "W_tq6cVXpbjv",
        "outputId": "29c0c3d6-19cd-4f70-dd00-5ef65ae1dd3f"
      },
      "execution_count": null,
      "outputs": [
        {
          "output_type": "stream",
          "name": "stdout",
          "text": [
            "[ 2  4  6  8 10]\n"
          ]
        }
      ]
    }
  ]
}