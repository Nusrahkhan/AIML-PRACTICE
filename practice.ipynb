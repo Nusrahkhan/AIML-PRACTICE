{
  "nbformat": 4,
  "nbformat_minor": 0,
  "metadata": {
    "colab": {
      "provenance": [],
      "collapsed_sections": [
        "Cvl1MMtyo8N2"
      ],
      "authorship_tag": "ABX9TyNvNZE1m0JMRBpTUyze4uSj",
      "include_colab_link": true
    },
    "kernelspec": {
      "name": "python3",
      "display_name": "Python 3"
    },
    "language_info": {
      "name": "python"
    }
  },
  "cells": [
    {
      "cell_type": "markdown",
      "metadata": {
        "id": "view-in-github",
        "colab_type": "text"
      },
      "source": [
        "<a href=\"https://colab.research.google.com/github/Nusrahkhan/Sariahhhhh/blob/main/practice.ipynb\" target=\"_parent\"><img src=\"https://colab.research.google.com/assets/colab-badge.svg\" alt=\"Open In Colab\"/></a>"
      ]
    },
    {
      "cell_type": "code",
      "execution_count": 1,
      "metadata": {
        "id": "VDQ1_9oPo4WE"
      },
      "outputs": [],
      "source": [
        "import numpy as np"
      ]
    },
    {
      "cell_type": "markdown",
      "source": [
        "## Creating arrays"
      ],
      "metadata": {
        "id": "Cvl1MMtyo8N2"
      }
    },
    {
      "cell_type": "code",
      "source": [
        "arr = np.array([1,2,3,4,5,6,7,8,9,10])\n",
        "print(arr)"
      ],
      "metadata": {
        "colab": {
          "base_uri": "https://localhost:8080/"
        },
        "id": "XXH8hnLpo7lR",
        "outputId": "219711ed-f9fd-4d81-a26e-12eb6397069b"
      },
      "execution_count": 2,
      "outputs": [
        {
          "output_type": "stream",
          "name": "stdout",
          "text": [
            "[ 1  2  3  4  5  6  7  8  9 10]\n"
          ]
        }
      ]
    },
    {
      "cell_type": "code",
      "source": [
        "arr_2d = np.array([[1,2,3], [4,5,6]])\n",
        "print(arr_2d)"
      ],
      "metadata": {
        "colab": {
          "base_uri": "https://localhost:8080/"
        },
        "id": "kGlIKCePpAis",
        "outputId": "cb4caff8-fcfd-4791-928c-f90251c41837"
      },
      "execution_count": 3,
      "outputs": [
        {
          "output_type": "stream",
          "name": "stdout",
          "text": [
            "[[1 2 3]\n",
            " [4 5 6]]\n"
          ]
        }
      ]
    },
    {
      "cell_type": "markdown",
      "source": [
        "## Properties of numpy arrays"
      ],
      "metadata": {
        "id": "aT6HWDHhpCwI"
      }
    },
    {
      "cell_type": "code",
      "source": [
        "print(type(arr_2d))"
      ],
      "metadata": {
        "colab": {
          "base_uri": "https://localhost:8080/"
        },
        "id": "2XgSh-GEpB3m",
        "outputId": "630e75d6-8c5a-45ba-d242-002074c354d9"
      },
      "execution_count": 4,
      "outputs": [
        {
          "output_type": "stream",
          "name": "stdout",
          "text": [
            "<class 'numpy.ndarray'>\n"
          ]
        }
      ]
    },
    {
      "cell_type": "code",
      "source": [
        "#Dimensions of the array\n",
        "print(arr_2d.ndim)"
      ],
      "metadata": {
        "colab": {
          "base_uri": "https://localhost:8080/"
        },
        "id": "JZPIOAxjpHqI",
        "outputId": "32cb19ed-5375-4ba2-8139-925295acf9db"
      },
      "execution_count": 5,
      "outputs": [
        {
          "output_type": "stream",
          "name": "stdout",
          "text": [
            "2\n"
          ]
        }
      ]
    },
    {
      "cell_type": "code",
      "source": [
        "# Number of rows and columns\n",
        "print(arr_2d.shape)"
      ],
      "metadata": {
        "colab": {
          "base_uri": "https://localhost:8080/"
        },
        "id": "YjPuNuUTpJW6",
        "outputId": "c365d072-1908-42a0-d1e6-71b7597b02af"
      },
      "execution_count": 6,
      "outputs": [
        {
          "output_type": "stream",
          "name": "stdout",
          "text": [
            "(2, 3)\n"
          ]
        }
      ]
    },
    {
      "cell_type": "code",
      "source": [
        "# datatype\n",
        "print(arr_2d.dtype)"
      ],
      "metadata": {
        "colab": {
          "base_uri": "https://localhost:8080/"
        },
        "id": "YrrRqr07pMxv",
        "outputId": "990f3c58-f7e8-4ad5-e4a0-6500ad3cf998"
      },
      "execution_count": 7,
      "outputs": [
        {
          "output_type": "stream",
          "name": "stdout",
          "text": [
            "int64\n"
          ]
        }
      ]
    },
    {
      "cell_type": "code",
      "source": [
        "#size\n",
        "print(arr_2d.size)"
      ],
      "metadata": {
        "colab": {
          "base_uri": "https://localhost:8080/"
        },
        "id": "Jp9nZ6xQpONe",
        "outputId": "11eaa59c-1c7e-44a3-96f4-7cab28d694f3"
      },
      "execution_count": 8,
      "outputs": [
        {
          "output_type": "stream",
          "name": "stdout",
          "text": [
            "6\n"
          ]
        }
      ]
    },
    {
      "cell_type": "markdown",
      "source": [
        "## Array slicing"
      ],
      "metadata": {
        "id": "pPUYmNKZpSTb"
      }
    },
    {
      "cell_type": "code",
      "source": [
        "# arrayname[start: end]\n",
        "new_array = np.array([2, 3, 5, 7, 8, 9, 10, 13, 15])\n",
        "print(new_array[1: 4])\n",
        "\n",
        "# with step\n",
        "print(new_array[1: 9: 2])\n",
        "\n",
        "# 2d array slicing\n",
        "arr_2d = np.array([[1, 2, 3, 5] ,[3, 5, 6, 4]])\n",
        "print(arr_2d[1, 1: 4])"
      ],
      "metadata": {
        "colab": {
          "base_uri": "https://localhost:8080/"
        },
        "id": "0wr3WKaHpP4O",
        "outputId": "951a3ced-2e3e-4766-bb8d-bab32e4225ea"
      },
      "execution_count": 9,
      "outputs": [
        {
          "output_type": "stream",
          "name": "stdout",
          "text": [
            "[3 5 7]\n",
            "[ 3  7  9 13]\n",
            "[5 6 4]\n"
          ]
        }
      ]
    },
    {
      "cell_type": "markdown",
      "source": [
        "## Array indexing"
      ],
      "metadata": {
        "id": "ikslmlYHpVf_"
      }
    },
    {
      "cell_type": "code",
      "source": [
        "# 2d array indexing\n",
        "print(arr_2d[0, 2])"
      ],
      "metadata": {
        "colab": {
          "base_uri": "https://localhost:8080/"
        },
        "id": "F6k9YGYgpUT8",
        "outputId": "102dd417-ad1d-4c1c-b24c-c84eb871e86a"
      },
      "execution_count": 10,
      "outputs": [
        {
          "output_type": "stream",
          "name": "stdout",
          "text": [
            "3\n"
          ]
        }
      ]
    },
    {
      "cell_type": "code",
      "source": [
        "# negative indexing\n",
        "print(arr[-1])"
      ],
      "metadata": {
        "colab": {
          "base_uri": "https://localhost:8080/"
        },
        "id": "xrNElzK_pZyz",
        "outputId": "1f58c07d-4c08-448c-83f5-1fd84e32cfd2"
      },
      "execution_count": 11,
      "outputs": [
        {
          "output_type": "stream",
          "name": "stdout",
          "text": [
            "10\n"
          ]
        }
      ]
    },
    {
      "cell_type": "markdown",
      "source": [
        "## Filtering"
      ],
      "metadata": {
        "id": "RaqI973QpcgC"
      }
    },
    {
      "cell_type": "code",
      "source": [
        "mask = arr % 2 == 0\n",
        "print(arr[mask])"
      ],
      "metadata": {
        "colab": {
          "base_uri": "https://localhost:8080/"
        },
        "id": "W_tq6cVXpbjv",
        "outputId": "29c0c3d6-19cd-4f70-dd00-5ef65ae1dd3f"
      },
      "execution_count": 12,
      "outputs": [
        {
          "output_type": "stream",
          "name": "stdout",
          "text": [
            "[ 2  4  6  8 10]\n"
          ]
        }
      ]
    }
  ]
}